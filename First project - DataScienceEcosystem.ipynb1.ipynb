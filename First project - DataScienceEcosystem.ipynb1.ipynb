{
 "cells": [
  {
   "cell_type": "markdown",
   "id": "ffb43034-1fb6-45f3-9195-5613629b9f40",
   "metadata": {},
   "source": [
    "#Data Science Tools and Ecosystem"
   ]
  },
  {
   "cell_type": "markdown",
   "id": "cf658e3f-08b5-465d-8b19-90db70ecaccf",
   "metadata": {},
   "source": [
    "In this notebook, Data Science Tools and Ecosystem are summarized"
   ]
  },
  {
   "cell_type": "markdown",
   "id": "6318e394-8b81-4584-bdec-8a5f80a2ff00",
   "metadata": {},
   "source": [
    "#__Objectives covered__:\n",
    "\n",
    "- List popular languages for Data Science  \n",
    "- List commonly used libraries in Data Science  \n",
    "- Use arithmetic expressions in Python  \n",
    "- Create tables using markdown  \n",
    "- Understand basic data science tools and environments "
   ]
  },
  {
   "cell_type": "markdown",
   "id": "924bb651-5cea-48e6-b4bd-7364ebadd1a4",
   "metadata": {},
   "source": [
    "List of some data science languages\n",
    "\n",
    "1. Python\n",
    "2. R\n",
    "3. SQL"
   ]
  },
  {
   "cell_type": "markdown",
   "id": "24cb54b6-d401-4e5a-8ff1-abf3565316ae",
   "metadata": {},
   "source": [
    "Some of the popular languages that Data Scientists use are:\n",
    "\n",
    "1. Pandas\n",
    "2. Numpy\n",
    "3. TensorFlow"
   ]
  },
  {
   "cell_type": "markdown",
   "id": "1c0e369e-4d69-4203-8c4d-62db2cfd7435",
   "metadata": {},
   "source": [
    "Some of the commonly used libraries used by Data Scientists include:\n",
    "\n",
    "1. Jupyter Notebook\n",
    "2. Apache Zeppelin\n",
    "3. RStudio\n"
   ]
  },
  {
   "cell_type": "markdown",
   "id": "a2a0db8c-9e3a-4cb8-ab38-edf0c0190fce",
   "metadata": {},
   "source": [
    "###Below are a few examples of evaluating arithmetic expressions in Python:"
   ]
  },
  {
   "cell_type": "code",
   "execution_count": 4,
   "id": "9ca819b5-ecfc-407e-a6de-eff96aff8c70",
   "metadata": {},
   "outputs": [
    {
     "data": {
      "text/plain": [
       "17"
      ]
     },
     "execution_count": 4,
     "metadata": {},
     "output_type": "execute_result"
    }
   ],
   "source": [
    "###This is a single arithmetic expression to multiply then add integers\n",
    "(3*4)+5"
   ]
  },
  {
   "cell_type": "code",
   "execution_count": 5,
   "id": "1a8c1063-7e2a-4fe4-9bbf-49879aa7b46e",
   "metadata": {},
   "outputs": [
    {
     "data": {
      "text/plain": [
       "3.3333333333333335"
      ]
     },
     "execution_count": 5,
     "metadata": {},
     "output_type": "execute_result"
    }
   ],
   "source": [
    "###This will convert 200 minutes to hours by diving by 60\n",
    "200/60"
   ]
  },
  {
   "cell_type": "markdown",
   "id": "daab5578-665d-4bc5-8e7d-d6d19abf8f43",
   "metadata": {},
   "source": [
    "## Author\n",
    "\n",
    "Sion"
   ]
  }
 ],
 "metadata": {
  "kernelspec": {
   "display_name": "Python [conda env:base] *",
   "language": "python",
   "name": "conda-base-py"
  },
  "language_info": {
   "codemirror_mode": {
    "name": "ipython",
    "version": 3
   },
   "file_extension": ".py",
   "mimetype": "text/x-python",
   "name": "python",
   "nbconvert_exporter": "python",
   "pygments_lexer": "ipython3",
   "version": "3.12.7"
  }
 },
 "nbformat": 4,
 "nbformat_minor": 5
}
